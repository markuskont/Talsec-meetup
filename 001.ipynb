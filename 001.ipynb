{
 "cells": [
  {
   "cell_type": "markdown",
   "metadata": {},
   "source": [
    "# Hunting\n",
    "\n",
    "* http://kolka:8008/spigraph?graphType=lpHisto&seriesType=bars&stopTime=1554992139&startTime=1554758139\n",
    "* [day 0](http://kolka:8008/spigraph?graphType=lpHisto&seriesType=bars&stopTime=1554843599&startTime=1554757200&expression=)\n",
    "* [day 1](http://kolka:8008/spigraph?graphType=lpHisto&seriesType=bars&stopTime=1554929999&startTime=1554843600&expression=)\n",
    "* [day 2](http://kolka:8008/spigraph?graphType=lpHisto&seriesType=bars&stopTime=1555016399&startTime=1554930000&expression=)\n",
    "\n",
    "## Queries"
   ]
  },
  {
   "cell_type": "raw",
   "metadata": {},
   "source": [
    "suricata.signature == EXISTS!\n",
    "suricata.severity == [1,2]\n",
    "\n",
    "workstation.template.src == EXISTS! && workstation.template.dst == EXISTS!\n",
    "\n",
    "port == 443 && packets > 100 && packets < 10000 && protocols != tls && http.uri == EXISTS!\n",
    "\n",
    "port.dst == 22 && protocols != ssh\n",
    "\n",
    "protocols == icmp && bytes > 9000 && country.src != RT && country.dst == RT && icmp.type == 2\n",
    "\n",
    "protocols == http && http.bodymagic == application/x-dosexec\n",
    "\n",
    "protocols == http && http.bodymagic == application/x-dosexec && country.dst == RT && http.method == GET && http.uri != *oscp* && http.uri != *berylia.org* && ls19.team.src == EXISTS!\n",
    "\n",
    "protocols == http && http.bodymagic == text/x-shellscript && asset != wsus && http.user-agent != Microsoft-Delivery-Optimization/10.0\n",
    "\n",
    "ip == $BAD && ((country.src == RT && country.dst != RT)||(country.src != RT && country.dst == RT)) && ip.dst != 255.255.255.255\n",
    "\n",
    "expression\": \"protocols == smb && ls19.name.src == EXISTS! && ls19.name.dst == EXISTS!\n",
    "\n",
    "protocols == dns && ls19.team.src == EXISTS! && host.dns == beryliabooks.org && ls19.short.dst == dc*"
   ]
  },
  {
   "cell_type": "code",
   "execution_count": null,
   "metadata": {},
   "outputs": [],
   "source": []
  }
 ],
 "metadata": {
  "kernelspec": {
   "display_name": "Python 3",
   "language": "python",
   "name": "python3"
  },
  "language_info": {
   "codemirror_mode": {
    "name": "ipython",
    "version": 3
   },
   "file_extension": ".py",
   "mimetype": "text/x-python",
   "name": "python",
   "nbconvert_exporter": "python",
   "pygments_lexer": "ipython3",
   "version": "3.7.4"
  }
 },
 "nbformat": 4,
 "nbformat_minor": 4
}
